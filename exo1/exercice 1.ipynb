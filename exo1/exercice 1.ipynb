{
 "cells": [
  {
   "cell_type": "code",
   "execution_count": 57,
   "metadata": {},
   "outputs": [],
   "source": [
    "import numpy as np\n",
    "from matplotlib import pyplot\n",
    "from IPython.display import display, clear_output"
   ]
  },
  {
   "cell_type": "code",
   "execution_count": 59,
   "metadata": {},
   "outputs": [],
   "source": [
    "class BernoulliBandit:\n",
    "    def __init__ (self, means, randomstate = None):\n",
    "        self.means = means\n",
    "        self.random = np.random.RandomState(randomstate)\n",
    "        self.k_star = np.argmax(means)\n",
    "        self.gaps = means[self.k_star] - means\n",
    "        self.regret = []\n",
    "        \n",
    "    def get_K(self):\n",
    "        return len(self.means)\n",
    "    \n",
    "    def play(self, action):\n",
    "        self.regret.append(self.gaps[action])\n",
    "        sample = self.random.rand(self.get_K())\n",
    "        reward = int(sample[action] < self.means[action])\n",
    "        return reward\n",
    "            \n",
    "    def get_cumulative_regret(self):\n",
    "        return np.cumsum(self.regret)"
   ]
  },
  {
   "cell_type": "code",
   "execution_count": 61,
   "metadata": {},
   "outputs": [],
   "source": [
    "def etc(bandit, T, m):\n",
    "    estimates = []\n",
    "    for k in range(bandit.get_K()):\n",
    "        m_estimates = []\n",
    "        for i in range(m):\n",
    "            m_estimates.append(bandit.play(k))\n",
    "        estimates.append(np.mean(m_estimates))\n",
    "\n",
    "    k_t = np.argmax(estimates)\n",
    "    for t in range(m * bandit.get_K(), T):\n",
    "        r_t = bandit.play(k_t)\n",
    "    return k_t"
   ]
  },
  {
   "cell_type": "code",
   "execution_count": 63,
   "metadata": {},
   "outputs": [],
   "source": [
    "def etc_experiment(N, T, m, means, seed=None):\n",
    "    mistakes = 0\n",
    "    pseudo_regrets = []\n",
    "    \n",
    "    for n in range(N):\n",
    "        bandit = BernoulliBandit(means, seed)\n",
    "        k_t = etc(bandit, T, m)\n",
    "        mistakes += (k_t != bandit.k_star)\n",
    "        pseudo_regrets.append(bandit.get_cumulative_regret())\n",
    "\n",
    "    avg_cumul_regret = np.mean(pseudo_regrets, axis=0)\n",
    "    std_cumul_regret = np.std(pseudo_regrets, axis=0)\n",
    "    \n",
    "    return  (mistakes / N, avg_cumul_regret, std_cumul_regret)"
   ]
  },
  {
   "cell_type": "code",
   "execution_count": 76,
   "metadata": {},
   "outputs": [
    {
     "data": {
      "image/png": "[encoded data removed]",
      "text/plain": [
       "<Figure size 432x288 with 1 Axes>"
      ]
     },
     "metadata": {},
     "output_type": "display_data"
    }
   ],
   "source": [
    "N = 500\n",
    "m = 10\n",
    "T = 2 * m + 1\n",
    "\n",
    "means = np.array([0.1, 0.9])\n",
    "step = 0.01\n",
    "\n",
    "cumul_mistakes = []\n",
    "cumul_gap = []\n",
    "\n",
    "fig = pyplot.figure()\n",
    "ax = fig.add_subplot(1, 1, 1) \n",
    "\n",
    "for i in range(75):\n",
    "    (mistakes_mean, _, _) = etc_experiment(N, T, m, means)\n",
    "    cumul_mistakes.append(mistakes_mean)\n",
    "    \n",
    "    cumul_gap.append(round(means[0] - means[1], 3));\n",
    "\n",
    "    x = np.arange(i + 1)\n",
    "    ax.set_xlim(0, i)\n",
    "    ax.cla()\n",
    "    ax.set_title(\"Experiment for \" + str(means))\n",
    "    ax.set_ylabel('mistakes probability')\n",
    "    ax.set_xlabel(f'Experiments for gap : {round(means[0] - means[1], 3)}')\n",
    "    ax.plot(cumul_gap, cumul_mistakes)\n",
    "    display(fig)\n",
    "    clear_output(wait = True)\n",
    "    pyplot.pause(0.1)\n",
    "    \n",
    "    means[0] += step\n",
    "    means[1] -= step\n",
    "    "
   ]
  },
  {
   "cell_type": "code",
   "execution_count": 20,
   "metadata": {},
   "outputs": [
    {
     "data": {
      "image/png": "[encoded data removed]",
      "text/plain": [
       "<Figure size 432x288 with 1 Axes>"
      ]
     },
     "metadata": {},
     "output_type": "display_data"
    }
   ],
   "source": [
    "N = 1000\n",
    "T = 500\n",
    "m = 10\n",
    "\n",
    "means = np.array([0.1, 0.9])\n",
    "step = 0.05\n",
    "\n",
    "fig = pyplot.figure()\n",
    "ax = fig.add_subplot(1, 1, 1) \n",
    "\n",
    "for i in range(15):\n",
    "    (_, avg_cumul_regret, std_cumul_regret) = etc_experiment(N, T, m, means)\n",
    "    cumul_mistakes.append(mistakes_mean)\n",
    "    \n",
    "    x = np.arange(len(avg_cumul_regret))\n",
    "    ax.cla()\n",
    "    ax.set_title(\"Experiment for \" + str(means))\n",
    "    ax.set_ylabel('Regret')\n",
    "    ax.set_xlabel('Time step')\n",
    "    ax.plot(x, avg_cumul_regret)\n",
    "    ax.fill_between(x, avg_cumul_regret, avg_cumul_regret + std_cumul_regret, alpha=0.4)\n",
    "    display(fig)\n",
    "    clear_output(wait = True)\n",
    "    pyplot.pause(0.1)\n",
    "    \n",
    "    means[0] += step\n",
    "    means[1] -= step"
   ]
  },
  {
   "cell_type": "markdown",
   "metadata": {},
   "source": [
    "**a)** L'algorithme ETC (explore then commit) n'est pas uniformément efficace, c'est à dire qu'il va souffrir de regret linéaire pour les instances plus difficile comme on peut le voir sur la figure 2 et va avoir tendance à converger vers des actions sous-optimal due à leurs exploration limité.\n",
    "\n",
    "Pour appuyer cela, nous avons réaliser plusieurs experience avec à chaque fois des instances de bandits avec un gap plus ou moins grand et nous avons enregistrer à chaque fois la probabilité de choisir la mauvaise action. A chaque experience, le gap des moyennes de notre bandit vont se rapprocher, on peut voir en temps réel sur la première figure la probabilité de choisir la mauvaise action, sur la deuxieme on peut voir le regret devenant linéaire quand les performance ne sont pas bonne.\n",
    "\n",
    "- "
   ]
  },
  {
   "cell_type": "code",
   "execution_count": 4,
   "metadata": {},
   "outputs": [],
   "source": [
    "class NormalBandit:\n",
    "    def __init__ (self, means, sigma, randomstate = None):\n",
    "        self.sigma = sigma\n",
    "        self.means = means\n",
    "        self.random = np.random.RandomState(randomstate)\n",
    "        self.k_star = np.argmax(means)\n",
    "        self.gaps = means[self.k_star] - means\n",
    "        self.regret = []\n",
    "        \n",
    "    def get_K(self):\n",
    "        return len(self.means)\n",
    "    \n",
    "    def play(self, action):\n",
    "        self.regret.append(self.gaps[action])\n",
    "        return self.random.normal(self.means[action], self.sigma[action])\n",
    "            \n",
    "    def get_cumulative_regret(self):\n",
    "        return np.cumsum(self.regret)"
   ]
  },
  {
   "cell_type": "code",
   "execution_count": 5,
   "metadata": {},
   "outputs": [],
   "source": [
    "def egreedy(bandit, T, eps, init_estimator=lambda K: np.zeros(K), seed=None):\n",
    "    random = np.random.RandomState(seed)\n",
    "    K = bandit.get_K()\n",
    "    avgs = init_estimator(K)\n",
    "    plays = np.zeros(K)\n",
    "    for t in range(T):\n",
    "        if random.rand() < eps:\n",
    "            k_t = random.choice(K)\n",
    "        else:\n",
    "            k_t = np.argmax(avgs)\n",
    "        r_t = bandit.play(k_t)\n",
    "        avgs[k_t] = (plays[k_t] * avgs[k_t] + r_t) / (plays[k_t] + 1)\n",
    "        plays[k_t] += 1"
   ]
  },
  {
   "cell_type": "code",
   "execution_count": 40,
   "metadata": {},
   "outputs": [
    {
     "data": {
      "text/plain": [
       "<matplotlib.legend.Legend at 0x122a91490>"
      ]
     },
     "execution_count": 40,
     "metadata": {},
     "output_type": "execute_result"
    },
    {
     "data": {
      "image/png": "[encoded data removed]",
      "text/plain": [
       "<Figure size 432x288 with 1 Axes>"
      ]
     },
     "metadata": {
      "needs_background": "light"
     },
     "output_type": "display_data"
    }
   ],
   "source": [
    "T = 1000\n",
    "N = 500\n",
    "K = 2\n",
    "\n",
    "random = np.random.RandomState(67)\n",
    "\n",
    "means_instance = random.rand(N, K)\n",
    "sigma_instance = random.rand(N, K)\n",
    "\n",
    "pseudo_regrets = {'zero_init': [], 'one_init': []}\n",
    "\n",
    "for n in range(N):\n",
    "    banditA = NormalBandit(means_instance[n], sigma_instance[n], randomstate=n)\n",
    "    egreedy(banditA, T, 0.1, seed=n)\n",
    "    pseudo_regrets[\"zero_init\"].append(banditA.get_cumulative_regret())\n",
    "    \n",
    "    banditB = NormalBandit(means_instance[n], sigma_instance[n], randomstate=n)\n",
    "    egreedy(banditB, T, 0.1, init_estimator=lambda K: np.full(K, 1.0), seed=n)\n",
    "    pseudo_regrets[\"one_init\"].append(banditB.get_cumulative_regret())\n",
    "    \n",
    "\n",
    "avg_cumul_regret = {\n",
    "    'zero_init': np.mean(pseudo_regrets['zero_init'], axis=0), \n",
    "    'one_init': np.mean(pseudo_regrets['one_init'], axis=0)}\n",
    "std_cumul_regret = {\n",
    "    'zero_init': np.std(pseudo_regrets['zero_init'], axis=0), \n",
    "    'one_init': np.std(pseudo_regrets['one_init'], axis=0)}\n",
    "\n",
    "pyplot.plot(avg_cumul_regret[\"zero_init\"], label=\"Estimator initialised to 0\")\n",
    "pyplot.fill_between(np.arange(T), \n",
    "                    avg_cumul_regret[\"zero_init\"], \n",
    "                    avg_cumul_regret[\"zero_init\"] + std_cumul_regret[\"zero_init\"], alpha=0.4)\n",
    "\n",
    "pyplot.plot(avg_cumul_regret[\"one_init\"], label=\"Estimator initialised to 1\")\n",
    "pyplot.fill_between(np.arange(T), \n",
    "                    avg_cumul_regret[\"one_init\"], \n",
    "                    avg_cumul_regret[\"one_init\"] + std_cumul_regret[\"one_init\"], alpha=0.4)\n",
    "\n",
    "pyplot.xlabel(\"Time step\")\n",
    "pyplot.ylabel(\"Cumul pseudo-regret\")\n",
    "pyplot.title(\"Epsilon greedy algorithm where epsilon = 0.1\")\n",
    "pyplot.legend()"
   ]
  },
  {
   "cell_type": "markdown",
   "metadata": {},
   "source": [
    "**b)** Pour rendre l'algorithme espilon-greedy optimiste, nous avons procéder à une experience comparative sur des bandits à distribution normal.\n",
    "\n",
    "Dans un premier temps, nous avons généré N instances de two armed bandits.\n",
    "Pour cette même instance nous avons minimiser le regret grace l'algorithme epsilon-greedy :\n",
    "Pour l'experience 1, nous avons initialisé les estimateurs empirique à 0 et pour l'experience 2, nous les avons initialisé à 1.\n",
    "Nous avons ensuite afficher les pseudo regret cumulatif de ses 50 instances dans un graphique.\n",
    "\n",
    "- Pour que l'effet soit bien perseptible et non biaiser par l'aléatoire, il est important de prendre un grand nombre d'instances de bandits\n",
    "\n",
    "Nous pouvons constater à première vu que le pseudo regret cumulatif moyen de l'experience 2 est généralement lègerement plus petit.\n",
    "Le choix d'initialiser les estimateurs empirique à 1 est d'encourager l'exploration ..."
   ]
  }
 ],
 "metadata": {
  "kernelspec": {
   "display_name": "Python 3",
   "language": "python",
   "name": "python3"
  },
  "language_info": {
   "codemirror_mode": {
    "name": "ipython",
    "version": 3
   },
   "file_extension": ".py",
   "mimetype": "text/x-python",
   "name": "python",
   "nbconvert_exporter": "python",
   "pygments_lexer": "ipython3",
   "version": "3.8.2"
  }
 },
 "nbformat": 4,
 "nbformat_minor": 4
}
