{
 "cells": [
  {
   "cell_type": "code",
   "execution_count": 36,
   "metadata": {},
   "outputs": [],
   "source": [
    "import numpy as np\n",
    "from matplotlib import pyplot\n",
    "from IPython.display import display, clear_output"
   ]
  },
  {
   "cell_type": "code",
   "execution_count": 2,
   "metadata": {},
   "outputs": [],
   "source": [
    "class BernoulliBandit:\n",
    "    def __init__ (self, means, randomstate = None):\n",
    "        self.means = means\n",
    "        self.random = np.random.RandomState(randomstate)\n",
    "        self.k_star = np.argmax(means)\n",
    "        self.gaps = means[self.k_star] - means\n",
    "        self.regret = []\n",
    "        \n",
    "    def get_K(self):\n",
    "        return len(self.means)\n",
    "    \n",
    "    def play(self, action):\n",
    "        self.regret.append(self.gaps[action])\n",
    "        sample = self.random.rand(self.get_K())\n",
    "        reward = int(sample[action] < self.means[action])\n",
    "        return reward\n",
    "            \n",
    "    def get_cumulative_regret(self):\n",
    "        return np.cumsum(self.regret)"
   ]
  },
  {
   "cell_type": "code",
   "execution_count": 3,
   "metadata": {},
   "outputs": [],
   "source": [
    "def greedy(bandit, T):\n",
    "    estimates = []\n",
    "    for k in range(bandit.get_K()):\n",
    "        estimates.append(bandit.play(k))\n",
    "    k_t = np.argmax(estimates)\n",
    "    for t in range(bandit.get_K(), T):\n",
    "        r_t = bandit.play(k_t)\n",
    "    return k_t"
   ]
  },
  {
   "cell_type": "code",
   "execution_count": 5,
   "metadata": {},
   "outputs": [],
   "source": [
    "def etc(bandit, T, m):\n",
    "    estimates = []\n",
    "    for k in range(bandit.get_K()):\n",
    "        m_estimates = []\n",
    "        for i in range(m):\n",
    "            m_estimates.append(bandit.play(k))\n",
    "        estimates.append(np.mean(m_estimates))\n",
    "\n",
    "    k_t = np.argmax(estimates)\n",
    "    for t in range(m * bandit.get_K(), T):\n",
    "        r_t = bandit.play(k_t)\n",
    "    return k_t"
   ]
  },
  {
   "cell_type": "code",
   "execution_count": 73,
   "metadata": {},
   "outputs": [],
   "source": [
    "def etc_experience(N, T, m, means):\n",
    "    mistakes = 0\n",
    "    pseudo_regrets = []\n",
    "    \n",
    "    for n in range(N):\n",
    "        bandit = BernoulliBandit(means)\n",
    "        k_t = etc(bandit, T, m)\n",
    "        mistakes += (k_t != bandit.k_star)\n",
    "        pseudo_regrets.append(bandit.get_cumulative_regret())\n",
    "\n",
    "    avg_cumul_regret = np.mean(pseudo_regrets, axis=0)\n",
    "    std_cumul_regret = np.std(pseudo_regrets, axis=0)\n",
    "    \n",
    "    return  (mistakes / N, avg_cumul_regret, std_cumul_regret)"
   ]
  },
  {
   "cell_type": "code",
   "execution_count": 74,
   "metadata": {},
   "outputs": [
    {
     "data": {
      "image/png": "[encoded data removed]",
      "text/plain": [
       "<Figure size 432x288 with 1 Axes>"
      ]
     },
     "metadata": {},
     "output_type": "display_data"
    }
   ],
   "source": [
    "N = 1000\n",
    "T = 200\n",
    "m = 10\n",
    "\n",
    "means = np.array([0.1, 0.9])\n",
    "step = 0.05\n",
    "\n",
    "cumul_mistakes = []\n",
    "\n",
    "fig = pyplot.figure()\n",
    "ax = fig.add_subplot(1, 1, 1) \n",
    "\n",
    "for i in range(15):\n",
    "    (mistakes_mean, _, _) = etc_experience(N, T, m, means)\n",
    "    means[0] += step\n",
    "    means[1] -= step\n",
    "    cumul_mistakes.append(mistakes_mean)\n",
    "    \n",
    "    x = np.arange(i + 1)\n",
    "    ax.set_xlim(0, i)\n",
    "    ax.cla()\n",
    "    ax.plot(x, cumul_mistakes)\n",
    "    display(fig)\n",
    "    clear_output(wait = True)\n",
    "    pyplot.pause(0.4)"
   ]
  },
  {
   "cell_type": "code",
   "execution_count": 77,
   "metadata": {},
   "outputs": [
    {
     "data": {
      "image/png": "[encoded data removed]",
      "text/plain": [
       "<Figure size 432x288 with 1 Axes>"
      ]
     },
     "metadata": {},
     "output_type": "display_data"
    }
   ],
   "source": [
    "N = 1000\n",
    "T = 200\n",
    "m = 10\n",
    "\n",
    "means = np.array([0.1, 0.9])\n",
    "step = 0.05\n",
    "\n",
    "fig = pyplot.figure()\n",
    "ax = fig.add_subplot(1, 1, 1) \n",
    "\n",
    "for i in range(15):\n",
    "    (_, avg_cumul_regret, std_cumul_regret) = etc_experience(N, T, m, means)\n",
    "    means[0] += step\n",
    "    means[1] -= step\n",
    "    cumul_mistakes.append(mistakes_mean)\n",
    "    \n",
    "    x = np.arange(len(avg_cumul_regret))\n",
    "    ax.cla()\n",
    "    ax.plot(x, avg_cumul_regret)\n",
    "    ax.fill_between(x, avg_cumul_regret, avg_cumul_regret + std_cumul_regret, alpha=0.4)\n",
    "    display(fig)\n",
    "    clear_output(wait = True)\n",
    "    pyplot.pause(0.4)"
   ]
  },
  {
   "cell_type": "code",
   "execution_count": null,
   "metadata": {},
   "outputs": [],
   "source": []
  }
 ],
 "metadata": {
  "kernelspec": {
   "display_name": "Python 3",
   "language": "python",
   "name": "python3"
  },
  "language_info": {
   "codemirror_mode": {
    "name": "ipython",
    "version": 3
   },
   "file_extension": ".py",
   "mimetype": "text/x-python",
   "name": "python",
   "nbconvert_exporter": "python",
   "pygments_lexer": "ipython3",
   "version": "3.8.2"
  }
 },
 "nbformat": 4,
 "nbformat_minor": 4
}
