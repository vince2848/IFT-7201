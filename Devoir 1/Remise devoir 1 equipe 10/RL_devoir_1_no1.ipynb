{
 "cells": [
  {
   "cell_type": "markdown",
   "metadata": {},
   "source": [
    "# Exercice 1 #"
   ]
  },
  {
   "cell_type": "code",
   "execution_count": 2,
   "metadata": {},
   "outputs": [],
   "source": [
    "import numpy as np\n",
    "from matplotlib import pyplot\n",
    "from IPython.display import display, clear_output"
   ]
  },
  {
   "cell_type": "markdown",
   "metadata": {},
   "source": [
    "## 1.1 ##"
   ]
  },
  {
   "cell_type": "code",
   "execution_count": 3,
   "metadata": {},
   "outputs": [],
   "source": [
    "class BernoulliBandit:\n",
    "    def __init__ (self, means, randomstate = None):\n",
    "        self.means = means\n",
    "        self.random = np.random.RandomState(randomstate)\n",
    "        self.k_star = np.argmax(means)\n",
    "        self.gaps = means[self.k_star] - means\n",
    "        self.regret = []\n",
    "        \n",
    "    def get_K(self):\n",
    "        return len(self.means)\n",
    "    \n",
    "    def play(self, action):\n",
    "        self.regret.append(self.gaps[action])\n",
    "        sample = self.random.rand(self.get_K())\n",
    "        reward = int(sample[action] < self.means[action])\n",
    "        return reward\n",
    "            \n",
    "    def get_cumulative_regret(self):\n",
    "        return np.cumsum(self.regret)"
   ]
  },
  {
   "cell_type": "code",
   "execution_count": 4,
   "metadata": {},
   "outputs": [],
   "source": [
    "def etc(bandit, T, m):\n",
    "    estimates = []\n",
    "    for k in range(bandit.get_K()):\n",
    "        m_estimates = []\n",
    "        for i in range(m):\n",
    "            m_estimates.append(bandit.play(k))\n",
    "        estimates.append(np.mean(m_estimates))\n",
    "\n",
    "    k_t = np.argmax(estimates)\n",
    "    for t in range(m * bandit.get_K(), T):\n",
    "        r_t = bandit.play(k_t)\n",
    "    return k_t"
   ]
  },
  {
   "cell_type": "code",
   "execution_count": 5,
   "metadata": {},
   "outputs": [],
   "source": [
    "def etc_experiment(N, T, m, means, seed=None):\n",
    "    mistakes = 0\n",
    "    pseudo_regrets = []\n",
    "    \n",
    "    for n in range(N):\n",
    "        bandit = BernoulliBandit(means, seed)\n",
    "        k_t = etc(bandit, T, m)\n",
    "        mistakes += (k_t != bandit.k_star)\n",
    "        pseudo_regrets.append(bandit.get_cumulative_regret())\n",
    "\n",
    "    avg_cumul_regret = np.mean(pseudo_regrets, axis=0)\n",
    "    std_cumul_regret = np.std(pseudo_regrets, axis=0)\n",
    "    \n",
    "    return  (mistakes / N, avg_cumul_regret, std_cumul_regret)"
   ]
  },
  {
   "cell_type": "code",
   "execution_count": 26,
   "metadata": {},
   "outputs": [
    {
     "data": {
      "image/png": "[encoded data removed]",
      "text/plain": [
       "<Figure size 432x288 with 1 Axes>"
      ]
     },
     "metadata": {},
     "output_type": "display_data"
    }
   ],
   "source": [
    "experiments = 75\n",
    "N = 200\n",
    "m = 10\n",
    "T = 2 * m + 1\n",
    "\n",
    "means = np.array([0.1, 0.9])\n",
    "step = 0.01\n",
    "\n",
    "cumul_mistakes = []\n",
    "cumul_gap = []\n",
    "\n",
    "fig = pyplot.figure()\n",
    "ax = fig.add_subplot(1, 1, 1) \n",
    "\n",
    "for i in range(experiments):\n",
    "    (mistakes_mean, _, _) = etc_experiment(N, T, m, means)\n",
    "    cumul_mistakes.append(mistakes_mean)\n",
    "    cumul_gap.append(round(means[0] - means[1], 3))\n",
    "\n",
    "    x = np.arange(i + 1)\n",
    "    ax.set_xlim(0, i)\n",
    "    ax.cla()\n",
    "    ax.set_title(\"Experiment for \" + str(means))\n",
    "    ax.set_ylabel('mistakes probability')\n",
    "    ax.set_xlabel(f'gaps  (current gap : {round(means[0] - means[1], 3)})')\n",
    "    ax.plot(cumul_gap, cumul_mistakes)\n",
    "    ax.axhline(y=0.2, color='r')\n",
    "    display(fig)\n",
    "    clear_output(wait = True)\n",
    "    pyplot.pause(0.1)\n",
    "    \n",
    "    means[0] += step\n",
    "    means[1] -= step\n",
    "    \n",
    "ax.cla()\n",
    "ax.axhline(y=0.2, color='r')\n",
    "ax.set_title(\"Figure 1\")\n",
    "ax.set_ylabel('mistakes probability')\n",
    "ax.set_xlabel('gaps')\n",
    "ax.plot(cumul_gap, cumul_mistakes)\n",
    "display(fig)"
   ]
  },
  {
   "cell_type": "markdown",
   "metadata": {},
   "source": [
    "## 1.2 ##"
   ]
  },
  {
   "cell_type": "code",
   "execution_count": 27,
   "metadata": {},
   "outputs": [],
   "source": [
    "class NormalBandit:\n",
    "    def __init__ (self, means, sigma, randomstate = None):\n",
    "        self.sigma = sigma\n",
    "        self.means = means\n",
    "        self.random = np.random.RandomState(randomstate)\n",
    "        self.k_star = np.argmax(means)\n",
    "        self.gaps = means[self.k_star] - means\n",
    "        self.regret = []\n",
    "        \n",
    "    def get_K(self):\n",
    "        return len(self.means)\n",
    "    \n",
    "    def play(self, action):\n",
    "        self.regret.append(self.gaps[action])\n",
    "        return self.random.normal(self.means[action], self.sigma[action])\n",
    "            \n",
    "    def get_cumulative_regret(self):\n",
    "        return np.cumsum(self.regret)"
   ]
  },
  {
   "cell_type": "code",
   "execution_count": 28,
   "metadata": {},
   "outputs": [],
   "source": [
    "def egreedy(bandit, T, eps, init_estimator=lambda K: np.zeros(K), seed=None):\n",
    "    random = np.random.RandomState(seed)\n",
    "    K = bandit.get_K()\n",
    "    avgs = init_estimator(K)\n",
    "    plays = np.zeros(K)\n",
    "    for t in range(T):\n",
    "        if random.rand() < eps:\n",
    "            k_t = random.choice(K)\n",
    "        else:\n",
    "            k_t = np.argmax(avgs)\n",
    "        r_t = bandit.play(k_t)\n",
    "        avgs[k_t] = (plays[k_t] * avgs[k_t] + r_t) / (plays[k_t] + 1)\n",
    "        plays[k_t] += 1"
   ]
  },
  {
   "cell_type": "code",
   "execution_count": 29,
   "metadata": {},
   "outputs": [
    {
     "data": {
      "text/plain": [
       "<matplotlib.legend.Legend at 0x11eab7c70>"
      ]
     },
     "execution_count": 29,
     "metadata": {},
     "output_type": "execute_result"
    },
    {
     "data": {
      "image/png": "[encoded data removed]",
      "text/plain": [
       "<Figure size 432x288 with 1 Axes>"
      ]
     },
     "metadata": {
      "needs_background": "light"
     },
     "output_type": "display_data"
    }
   ],
   "source": [
    "T = 1000\n",
    "N = 500\n",
    "K = 2\n",
    "\n",
    "random = np.random.RandomState(67)\n",
    "\n",
    "means_instance = random.rand(N, K)\n",
    "sigma_instance = random.rand(N, K)\n",
    "\n",
    "pseudo_regrets = {'zero_init': [], 'one_init': []}\n",
    "\n",
    "for n in range(N):\n",
    "    banditA = NormalBandit(means_instance[n], sigma_instance[n], randomstate=n)\n",
    "    egreedy(banditA, T, 0.1, seed=n)\n",
    "    pseudo_regrets[\"zero_init\"].append(banditA.get_cumulative_regret())\n",
    "    \n",
    "    banditB = NormalBandit(means_instance[n], sigma_instance[n], randomstate=n)\n",
    "    egreedy(banditB, T, 0.1, init_estimator=lambda K: np.full(K, 1.0), seed=n)\n",
    "    pseudo_regrets[\"one_init\"].append(banditB.get_cumulative_regret())\n",
    "    \n",
    "\n",
    "avg_cumul_regret = {\n",
    "    'zero_init': np.mean(pseudo_regrets['zero_init'], axis=0), \n",
    "    'one_init': np.mean(pseudo_regrets['one_init'], axis=0)}\n",
    "std_cumul_regret = {\n",
    "    'zero_init': np.std(pseudo_regrets['zero_init'], axis=0), \n",
    "    'one_init': np.std(pseudo_regrets['one_init'], axis=0)}\n",
    "\n",
    "pyplot.plot(avg_cumul_regret[\"zero_init\"], label=\"Estimator initialised to 0\")\n",
    "pyplot.fill_between(np.arange(T), \n",
    "                    avg_cumul_regret[\"zero_init\"], \n",
    "                    avg_cumul_regret[\"zero_init\"] + std_cumul_regret[\"zero_init\"], alpha=0.4)\n",
    "\n",
    "pyplot.plot(avg_cumul_regret[\"one_init\"], label=\"Estimator initialised to 1\")\n",
    "pyplot.fill_between(np.arange(T), \n",
    "                    avg_cumul_regret[\"one_init\"], \n",
    "                    avg_cumul_regret[\"one_init\"] + std_cumul_regret[\"one_init\"], alpha=0.4)\n",
    "\n",
    "pyplot.xlabel(\"Time step\")\n",
    "pyplot.ylabel(\"Cumul pseudo-regret\")\n",
    "pyplot.title(\"Epsilon greedy algorithm where epsilon = 0.1\")\n",
    "pyplot.legend()"
   ]
  }
 ],
 "metadata": {
  "kernelspec": {
   "display_name": "Python 3",
   "language": "python",
   "name": "python3"
  },
  "language_info": {
   "codemirror_mode": {
    "name": "ipython",
    "version": 3
   },
   "file_extension": ".py",
   "mimetype": "text/x-python",
   "name": "python",
   "nbconvert_exporter": "python",
   "pygments_lexer": "ipython3",
   "version": "3.8.2"
  }
 },
 "nbformat": 4,
 "nbformat_minor": 4
}
