{
 "cells": [
  {
   "cell_type": "code",
   "execution_count": 2,
   "metadata": {},
   "outputs": [],
   "source": [
    "import numpy as np\n",
    "from scipy.optimize import minimize_scalar\n",
    "from bernouilli_bandit import BernoulliBandit\n",
    "import math\n",
    "from matplotlib import pyplot as plt"
   ]
  },
  {
   "cell_type": "code",
   "execution_count": 3,
   "metadata": {},
   "outputs": [],
   "source": [
    "def kl_bernoulli(p, q):\n",
    "    def part(p1, q1):\n",
    "        if p1 == 0:\n",
    "            ans = 0\n",
    "        elif q1 == 0:\n",
    "            ans = np.inf\n",
    "        else:\n",
    "            ans = p1 * math.log(p1 / q1)\n",
    "        return ans\n",
    "\n",
    "    return part(p, q) + part(1 - p, 1 - q)\n"
   ]
  },
  {
   "cell_type": "code",
   "execution_count": 4,
   "metadata": {},
   "outputs": [],
   "source": [
    "def ucb_opt(n, s, t, c):\n",
    "    p = s / n\n",
    "\n",
    "    def to_optimize(q):\n",
    "        return np.power(np.log(t) + c * np.log(np.log(t + 1)) - n * kl_bernoulli(p, q), 2)\n",
    "\n",
    "    q = minimize_scalar(to_optimize, bounds=(p, 1), method='bounded').x\n",
    "    return q\n"
   ]
  },
  {
   "cell_type": "code",
   "execution_count": 5,
   "metadata": {},
   "outputs": [],
   "source": [
    "def ucb_gaussian(n, s, t, c):\n",
    "    return s / n + np.sqrt((1 / 2) * (np.log(t + 1) + c * np.log(np.log(t + 1))) / n)\n"
   ]
  },
  {
   "cell_type": "code",
   "execution_count": 6,
   "metadata": {},
   "outputs": [],
   "source": [
    "def kl_ucb(bandit, T, ucb, c=3):\n",
    "    K = bandit.get_K()\n",
    "    n, s = np.zeros(K), np.zeros(K)\n",
    "\n",
    "    def play(k_t):\n",
    "        s[k_t] += bandit.play(k_t)\n",
    "        n[k_t] += 1\n",
    "\n",
    "    for t in range(0, K):\n",
    "        k_t = t\n",
    "        play(k_t)\n",
    "    for t in range(K, T):\n",
    "        ucb_t = [ucb(n[i], s[i], t, c) for i in range(0, k)]\n",
    "        index = np.array([i for i in range(k)])\n",
    "        index_max = (ucb_t == max(ucb_t))\n",
    "        possible_ind = index[index_max]\n",
    "        k_t = possible_ind[np.argmin(n[possible_ind])]\n",
    "        play(k_t)\n"
   ]
  },
  {
   "cell_type": "code",
   "execution_count": 7,
   "metadata": {},
   "outputs": [],
   "source": [
    "def kl_ucb_bernoulli(bandit, T, c=3):\n",
    "    kl_ucb(bandit, T, ucb_opt)\n",
    "    "
   ]
  },
  {
   "cell_type": "code",
   "execution_count": 8,
   "metadata": {},
   "outputs": [],
   "source": [
    "def kl_ucb_gaussian(bandit, T, c=3):\n",
    "    kl_ucb(bandit, T, ucb_gaussian)\n",
    "    "
   ]
  },
  {
   "cell_type": "code",
   "execution_count": 13,
   "metadata": {},
   "outputs": [],
   "source": [
    "N = 50\n",
    "k = 2\n",
    "T = 1000\n",
    "c = 3\n",
    "\n",
    "np.random.seed(50)\n",
    "cumul_regret_bernoulli = []\n",
    "cumul_regret_gaussian = []\n",
    "\n",
    "for i in range(N):\n",
    "    seed = np.random.randint(2000, size=1)\n",
    "\n",
    "    bandit1 = BernoulliBandit(k, seed)\n",
    "    kl_ucb_bernoulli(bandit1, T)\n",
    "    cumul_regret_bernoulli.append(bandit1.get_cumul_regret())\n",
    "\n",
    "    bandit2 = BernoulliBandit(k, seed)\n",
    "    kl_ucb_gaussian(bandit2, T)\n",
    "    cumul_regret_gaussian.append(bandit2.get_cumul_regret())\n",
    "\n",
    "mean_cumul_regret_bernoulli = np.mean(cumul_regret_bernoulli, axis=0)\n",
    "mean_cumul_regret_gaussian = np.mean(cumul_regret_gaussian, axis=0)\n"
   ]
  },
  {
   "cell_type": "code",
   "execution_count": 14,
   "metadata": {},
   "outputs": [
    {
     "data": {
      "text/plain": [
       "<matplotlib.legend.Legend at 0x7f275d300d60>"
      ]
     },
     "execution_count": 14,
     "metadata": {},
     "output_type": "execute_result"
    },
    {
     "data": {
      "image/png": "[encoded data removed]",
      "text/plain": [
       "<Figure size 432x288 with 1 Axes>"
      ]
     },
     "metadata": {
      "needs_background": "light"
     },
     "output_type": "display_data"
    }
   ],
   "source": [
    "plt.plot(mean_cumul_regret_bernoulli, label = 'UCB Bernoulli')\n",
    "plt.plot(mean_cumul_regret_gaussian, label = 'UCB Gaussien')\n",
    "plt.legend()"
   ]
  },
  {
   "cell_type": "code",
   "execution_count": 26,
   "metadata": {},
   "outputs": [],
   "source": [
    "N = 50\n",
    "k = 2\n",
    "T = 1000\n",
    "c = 1\n",
    "\n",
    "np.random.seed(50)\n",
    "cumul_regret_bernoulli = []\n",
    "cumul_regret_gaussian = []\n",
    "\n",
    "for i in range(N):\n",
    "    seed = np.random.randint(2000, size=1)\n",
    "\n",
    "    bandit1 = BernoulliBandit(k, seed)\n",
    "    kl_ucb_bernoulli(bandit1, T)\n",
    "    cumul_regret_bernoulli.append(bandit1.get_cumul_regret())\n",
    "\n",
    "    bandit2 = BernoulliBandit(k, seed)\n",
    "    kl_ucb_gaussian(bandit2, T)\n",
    "    cumul_regret_gaussian.append(bandit2.get_cumul_regret())\n",
    "\n",
    "mean_cumul_regret_bernoulli = np.mean(cumul_regret_bernoulli, axis=0)\n",
    "std_cumul_regret_bernoulli = np.std(cumul_regret_bernoulli, axis=0)\n",
    "mean_cumul_regret_gaussian = np.mean(cumul_regret_gaussian, axis=0)\n",
    "std_cumul_regret_gaussian = np.std(cumul_regret_gaussian, axis=0)"
   ]
  },
  {
   "cell_type": "code",
   "execution_count": 1,
   "metadata": {},
   "outputs": [
    {
     "ename": "NameError",
     "evalue": "name 'np' is not defined",
     "output_type": "error",
     "traceback": [
      "\u001b[0;31m---------------------------------------------------------------------------\u001b[0m",
      "\u001b[0;31mNameError\u001b[0m                                 Traceback (most recent call last)",
      "\u001b[0;32m<ipython-input-1-a0778c675857>\u001b[0m in \u001b[0;36m<module>\u001b[0;34m\u001b[0m\n\u001b[0;32m----> 1\u001b[0;31m \u001b[0mstd_cumul_regret_gaussian\u001b[0m \u001b[0;34m=\u001b[0m \u001b[0mnp\u001b[0m\u001b[0;34m.\u001b[0m\u001b[0mstd\u001b[0m\u001b[0;34m(\u001b[0m\u001b[0mcumul_regret_gaussian\u001b[0m\u001b[0;34m,\u001b[0m \u001b[0maxis\u001b[0m\u001b[0;34m=\u001b[0m\u001b[0;36m0\u001b[0m\u001b[0;34m)\u001b[0m\u001b[0;34m\u001b[0m\u001b[0;34m\u001b[0m\u001b[0m\n\u001b[0m\u001b[1;32m      2\u001b[0m \u001b[0mplt\u001b[0m\u001b[0;34m.\u001b[0m\u001b[0mplot\u001b[0m\u001b[0;34m(\u001b[0m\u001b[0mmean_cumul_regret_bernoulli\u001b[0m\u001b[0;34m,\u001b[0m \u001b[0mlabel\u001b[0m \u001b[0;34m=\u001b[0m \u001b[0;34m'UCB Bernoulli'\u001b[0m\u001b[0;34m)\u001b[0m\u001b[0;34m\u001b[0m\u001b[0;34m\u001b[0m\u001b[0m\n\u001b[1;32m      3\u001b[0m \u001b[0mplt\u001b[0m\u001b[0;34m.\u001b[0m\u001b[0mplot\u001b[0m\u001b[0;34m(\u001b[0m\u001b[0mmean_cumul_regret_gaussian\u001b[0m\u001b[0;34m,\u001b[0m \u001b[0mlabel\u001b[0m \u001b[0;34m=\u001b[0m \u001b[0;34m'UCB Gaussien'\u001b[0m\u001b[0;34m)\u001b[0m\u001b[0;34m\u001b[0m\u001b[0;34m\u001b[0m\u001b[0m\n\u001b[1;32m      4\u001b[0m \u001b[0mplt\u001b[0m\u001b[0;34m.\u001b[0m\u001b[0mfill_between\u001b[0m\u001b[0;34m(\u001b[0m\u001b[0mnp\u001b[0m\u001b[0;34m.\u001b[0m\u001b[0marange\u001b[0m\u001b[0;34m(\u001b[0m\u001b[0mT\u001b[0m\u001b[0;34m)\u001b[0m\u001b[0;34m,\u001b[0m \u001b[0mmean_cumul_regret_bernoulli\u001b[0m\u001b[0;34m,\u001b[0m \u001b[0mmean_cumul_regret_bernoulli\u001b[0m\u001b[0;34m+\u001b[0m\u001b[0mstd_cumul_regret_bernoulli\u001b[0m\u001b[0;34m,\u001b[0m \u001b[0malpha\u001b[0m\u001b[0;34m=\u001b[0m\u001b[0;36m0.5\u001b[0m\u001b[0;34m)\u001b[0m\u001b[0;34m\u001b[0m\u001b[0;34m\u001b[0m\u001b[0m\n\u001b[1;32m      5\u001b[0m \u001b[0mplt\u001b[0m\u001b[0;34m.\u001b[0m\u001b[0mfill_between\u001b[0m\u001b[0;34m(\u001b[0m\u001b[0mnp\u001b[0m\u001b[0;34m.\u001b[0m\u001b[0marange\u001b[0m\u001b[0;34m(\u001b[0m\u001b[0mT\u001b[0m\u001b[0;34m)\u001b[0m\u001b[0;34m,\u001b[0m \u001b[0mmean_cumul_regret_gaussian\u001b[0m\u001b[0;34m,\u001b[0m \u001b[0mmean_cumul_regret_gaussian\u001b[0m\u001b[0;34m+\u001b[0m\u001b[0mstd_cumul_regret_gaussian\u001b[0m\u001b[0;34m,\u001b[0m \u001b[0malpha\u001b[0m\u001b[0;34m=\u001b[0m\u001b[0;36m0.5\u001b[0m\u001b[0;34m)\u001b[0m\u001b[0;34m\u001b[0m\u001b[0;34m\u001b[0m\u001b[0m\n",
      "\u001b[0;31mNameError\u001b[0m: name 'np' is not defined"
     ]
    }
   ],
   "source": [
    "std_cumul_regret_gaussian = np.std(cumul_regret_gaussian, axis=0)\n",
    "plt.plot(mean_cumul_regret_bernoulli, label = 'UCB Bernoulli')\n",
    "plt.plot(mean_cumul_regret_gaussian, label = 'UCB Gaussien')\n",
    "plt.fill_between(np.arange(T), mean_cumul_regret_bernoulli, mean_cumul_regret_bernoulli+std_cumul_regret_bernoulli, alpha=0.5)\n",
    "plt.fill_between(np.arange(T), mean_cumul_regret_gaussian, mean_cumul_regret_gaussian+std_cumul_regret_gaussian, alpha=0.5)\n",
    "plt.legend(loc='upper left')\n",
    "plt.xlabel=('t')\n",
    "plt.ylabel=('Pseudo-regret cumnulatif')\n",
    "plt.savefig('rapport/figures/comparaison.pdf')"
   ]
  },
  {
   "cell_type": "code",
   "execution_count": 31,
   "metadata": {},
   "outputs": [
    {
     "data": {
      "text/plain": [
       "<Figure size 432x288 with 0 Axes>"
      ]
     },
     "metadata": {},
     "output_type": "display_data"
    }
   ],
   "source": [
    "plt.savefig('rapport/figures/comparaison.pdf')"
   ]
  }
 ],
 "metadata": {
  "kernelspec": {
   "display_name": "Python 3",
   "language": "python",
   "name": "python3"
  },
  "language_info": {
   "codemirror_mode": {
    "name": "ipython",
    "version": 3
   },
   "file_extension": ".py",
   "mimetype": "text/x-python",
   "name": "python",
   "nbconvert_exporter": "python",
   "pygments_lexer": "ipython3",
   "version": "3.8.5"
  }
 },
 "nbformat": 4,
 "nbformat_minor": 4
}
